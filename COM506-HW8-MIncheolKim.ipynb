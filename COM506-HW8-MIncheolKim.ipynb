{
 "cells": [
  {
   "cell_type": "markdown",
   "metadata": {},
   "source": [
    "# Term Paper - ERD for SQL\n",
    "\n",
    "## PlantUML\n",
    "\n",
    "I will load Ttareungi data from Seoul and save it in NoSQL format. PlantUML is for that.\n",
    "\n",
    "나는 이용자를 초점으로 접근하는 것이 아닌 사람들이 이용하는 대여소를 중심으로 DataBase를 만들도록 하겠다.\n",
    "\n",
    "Then, read the file grades.csv and display it in columns with the column heads 'ID', 'Name' and 'Grade'."
   ]
  },
  {
   "cell_type": "code",
   "execution_count": 2,
   "metadata": {},
   "outputs": [
    {
     "name": "stdout",
     "output_type": "stream",
     "text": [
      "Requirement already satisfied: plantuml in c:\\users\\kmch1\\anaconda3\\lib\\site-packages (0.3.0)\n",
      "Requirement already satisfied: httplib2 in c:\\users\\kmch1\\anaconda3\\lib\\site-packages (from plantuml) (0.20.4)\n",
      "Requirement already satisfied: pyparsing!=3.0.0,!=3.0.1,!=3.0.2,!=3.0.3,<4,>=2.4.2 in c:\\users\\kmch1\\anaconda3\\lib\\site-packages (from httplib2->plantuml) (3.0.4)\n"
     ]
    }
   ],
   "source": [
    "!pip install plantuml\n",
    "import iplantuml"
   ]
  },
  {
   "cell_type": "code",
   "execution_count": 25,
   "metadata": {
    "scrolled": false
   },
   "outputs": [
    {
     "data": {
      "image/svg+xml": [
       "<svg xmlns=\"http://www.w3.org/2000/svg\" xmlns:xlink=\"http://www.w3.org/1999/xlink\" contentStyleType=\"text/css\" height=\"386px\" preserveAspectRatio=\"none\" style=\"width:261px;height:386px;background:#FFFFFF;\" version=\"1.1\" viewBox=\"0 0 261 386\" width=\"261px\" zoomAndPan=\"magnify\"><defs/><g><!--MD5=[e39a306e9c958aa52bed8ef2a0b52752]\n",
       "class RentalOffice--><g id=\"elem_RentalOffice\"><rect codeLine=\"1\" fill=\"#F1F1F1\" height=\"48\" id=\"RentalOffice\" rx=\"2.5\" ry=\"2.5\" style=\"stroke:#181818;stroke-width:0.5;\" width=\"127\" x=\"79\" y=\"7\"/><ellipse cx=\"94\" cy=\"23\" fill=\"#ADD1B2\" rx=\"11\" ry=\"11\" style=\"stroke:#181818;stroke-width:1.0;\"/><path d=\"M92.7969,23.875 L94.25,23.875 L94.25,23.9844 C94.25,24.3906 94.2813,24.5469 94.3594,24.7031 C94.5156,24.9531 94.7969,25.1094 95.0938,25.1094 C95.3438,25.1094 95.6094,24.9688 95.7656,24.75 C95.8906,24.5938 95.9219,24.4375 95.9219,23.9844 L95.9219,22.0625 C95.9219,21.9063 95.9219,21.8594 95.9063,21.7031 C95.8438,21.2344 95.5313,20.9219 95.0781,20.9219 C94.8281,20.9219 94.5625,21.0625 94.3906,21.2813 C94.2813,21.4531 94.25,21.6094 94.25,22.0625 L94.25,22.1875 L92.7969,22.1875 L92.7969,19.7813 L96.7813,19.7813 L96.7813,20.6406 C96.7813,21.0469 96.8125,21.2188 96.8906,21.375 C97.0625,21.625 97.3438,21.7813 97.625,21.7813 C97.8906,21.7813 98.1563,21.6406 98.3281,21.4219 C98.4375,21.25 98.4688,21.1094 98.4688,20.6406 L98.4688,18.0938 L90.8438,18.0938 C90.4063,18.0938 90.2813,18.1094 90.125,18.2031 C89.875,18.3594 89.7188,18.6563 89.7188,18.9375 C89.7188,19.2188 89.8594,19.4688 90.0781,19.6406 C90.2344,19.75 90.4219,19.7813 90.8438,19.7813 L91.0938,19.7813 L91.0938,26.2969 L90.8438,26.2969 C90.4375,26.2969 90.2813,26.3125 90.125,26.4219 C89.875,26.5938 89.7188,26.8594 89.7188,27.1563 C89.7188,27.4219 89.8594,27.6719 90.0781,27.8281 C90.2188,27.9531 90.4531,28 90.8438,28 L98.8438,28 L98.8438,25.4219 C98.8438,24.9844 98.8125,24.8438 98.7344,24.6875 C98.5625,24.4375 98.2813,24.2813 98,24.2813 C97.7344,24.2813 97.4688,24.3906 97.2969,24.6406 C97.1875,24.7969 97.1563,24.9375 97.1563,25.4219 L97.1563,26.2969 L92.7969,26.2969 L92.7969,23.875 Z \" fill=\"#000000\"/><text fill=\"#000000\" font-family=\"sans-serif\" font-size=\"14\" lengthAdjust=\"spacing\" textLength=\"95\" x=\"108\" y=\"27.8467\">Rental Office</text><line style=\"stroke:#181818;stroke-width:0.5;\" x1=\"80\" x2=\"205\" y1=\"39\" y2=\"39\"/><line style=\"stroke:#181818;stroke-width:0.5;\" x1=\"80\" x2=\"205\" y1=\"47\" y2=\"47\"/></g><!--MD5=[0d0ea8492d5752e2d8325ee2c0635907]\n",
       "class Monthly--><g id=\"elem_Monthly\"><rect codeLine=\"4\" fill=\"#F1F1F1\" height=\"48\" id=\"Monthly\" rx=\"2.5\" ry=\"2.5\" style=\"stroke:#181818;stroke-width:0.5;\" width=\"128\" x=\"78.5\" y=\"115\"/><ellipse cx=\"93.5\" cy=\"131\" fill=\"#ADD1B2\" rx=\"11\" ry=\"11\" style=\"stroke:#181818;stroke-width:1.0;\"/><path d=\"M92.2969,131.875 L93.75,131.875 L93.75,131.9844 C93.75,132.3906 93.7813,132.5469 93.8594,132.7031 C94.0156,132.9531 94.2969,133.1094 94.5938,133.1094 C94.8438,133.1094 95.1094,132.9688 95.2656,132.75 C95.3906,132.5938 95.4219,132.4375 95.4219,131.9844 L95.4219,130.0625 C95.4219,129.9063 95.4219,129.8594 95.4063,129.7031 C95.3438,129.2344 95.0313,128.9219 94.5781,128.9219 C94.3281,128.9219 94.0625,129.0625 93.8906,129.2813 C93.7813,129.4531 93.75,129.6094 93.75,130.0625 L93.75,130.1875 L92.2969,130.1875 L92.2969,127.7813 L96.2813,127.7813 L96.2813,128.6406 C96.2813,129.0469 96.3125,129.2188 96.3906,129.375 C96.5625,129.625 96.8438,129.7813 97.125,129.7813 C97.3906,129.7813 97.6563,129.6406 97.8281,129.4219 C97.9375,129.25 97.9688,129.1094 97.9688,128.6406 L97.9688,126.0938 L90.3438,126.0938 C89.9063,126.0938 89.7813,126.1094 89.625,126.2031 C89.375,126.3594 89.2188,126.6563 89.2188,126.9375 C89.2188,127.2188 89.3594,127.4688 89.5781,127.6406 C89.7344,127.75 89.9219,127.7813 90.3438,127.7813 L90.5938,127.7813 L90.5938,134.2969 L90.3438,134.2969 C89.9375,134.2969 89.7813,134.3125 89.625,134.4219 C89.375,134.5938 89.2188,134.8594 89.2188,135.1563 C89.2188,135.4219 89.3594,135.6719 89.5781,135.8281 C89.7188,135.9531 89.9531,136 90.3438,136 L98.3438,136 L98.3438,133.4219 C98.3438,132.9844 98.3125,132.8438 98.2344,132.6875 C98.0625,132.4375 97.7813,132.2813 97.5,132.2813 C97.2344,132.2813 96.9688,132.3906 96.7969,132.6406 C96.6875,132.7969 96.6563,132.9375 96.6563,133.4219 L96.6563,134.2969 L92.2969,134.2969 L92.2969,131.875 Z \" fill=\"#000000\"/><text fill=\"#000000\" font-family=\"sans-serif\" font-size=\"14\" lengthAdjust=\"spacing\" textLength=\"96\" x=\"107.5\" y=\"135.8467\">Monthly Data</text><line style=\"stroke:#181818;stroke-width:0.5;\" x1=\"79.5\" x2=\"205.5\" y1=\"147\" y2=\"147\"/><line style=\"stroke:#181818;stroke-width:0.5;\" x1=\"79.5\" x2=\"205.5\" y1=\"155\" y2=\"155\"/></g><!--MD5=[ade0a8f7a572f2057d0d6ad4c79f9739]\n",
       "class Daily--><g id=\"elem_Daily\"><rect codeLine=\"7\" fill=\"#F1F1F1\" height=\"48\" id=\"Daily\" rx=\"2.5\" ry=\"2.5\" style=\"stroke:#181818;stroke-width:0.5;\" width=\"105\" x=\"7\" y=\"223\"/><ellipse cx=\"22\" cy=\"239\" fill=\"#ADD1B2\" rx=\"11\" ry=\"11\" style=\"stroke:#181818;stroke-width:1.0;\"/><path d=\"M20.7969,239.875 L22.25,239.875 L22.25,239.9844 C22.25,240.3906 22.2813,240.5469 22.3594,240.7031 C22.5156,240.9531 22.7969,241.1094 23.0938,241.1094 C23.3438,241.1094 23.6094,240.9688 23.7656,240.75 C23.8906,240.5938 23.9219,240.4375 23.9219,239.9844 L23.9219,238.0625 C23.9219,237.9063 23.9219,237.8594 23.9063,237.7031 C23.8438,237.2344 23.5313,236.9219 23.0781,236.9219 C22.8281,236.9219 22.5625,237.0625 22.3906,237.2813 C22.2813,237.4531 22.25,237.6094 22.25,238.0625 L22.25,238.1875 L20.7969,238.1875 L20.7969,235.7813 L24.7813,235.7813 L24.7813,236.6406 C24.7813,237.0469 24.8125,237.2188 24.8906,237.375 C25.0625,237.625 25.3438,237.7813 25.625,237.7813 C25.8906,237.7813 26.1563,237.6406 26.3281,237.4219 C26.4375,237.25 26.4688,237.1094 26.4688,236.6406 L26.4688,234.0938 L18.8438,234.0938 C18.4063,234.0938 18.2813,234.1094 18.125,234.2031 C17.875,234.3594 17.7188,234.6563 17.7188,234.9375 C17.7188,235.2188 17.8594,235.4688 18.0781,235.6406 C18.2344,235.75 18.4219,235.7813 18.8438,235.7813 L19.0938,235.7813 L19.0938,242.2969 L18.8438,242.2969 C18.4375,242.2969 18.2813,242.3125 18.125,242.4219 C17.875,242.5938 17.7188,242.8594 17.7188,243.1563 C17.7188,243.4219 17.8594,243.6719 18.0781,243.8281 C18.2188,243.9531 18.4531,244 18.8438,244 L26.8438,244 L26.8438,241.4219 C26.8438,240.9844 26.8125,240.8438 26.7344,240.6875 C26.5625,240.4375 26.2813,240.2813 26,240.2813 C25.7344,240.2813 25.4688,240.3906 25.2969,240.6406 C25.1875,240.7969 25.1563,240.9375 25.1563,241.4219 L25.1563,242.2969 L20.7969,242.2969 L20.7969,239.875 Z \" fill=\"#000000\"/><text fill=\"#000000\" font-family=\"sans-serif\" font-size=\"14\" lengthAdjust=\"spacing\" textLength=\"73\" x=\"36\" y=\"243.8467\">Daily Data</text><line style=\"stroke:#181818;stroke-width:0.5;\" x1=\"8\" x2=\"111\" y1=\"255\" y2=\"255\"/><line style=\"stroke:#181818;stroke-width:0.5;\" x1=\"8\" x2=\"111\" y1=\"263\" y2=\"263\"/></g><!--MD5=[f1333a05ad9dae29fb560292f2cbd4bc]\n",
       "class Hourly--><g id=\"elem_Hourly\"><rect codeLine=\"10\" fill=\"#F1F1F1\" height=\"48\" id=\"Hourly\" rx=\"2.5\" ry=\"2.5\" style=\"stroke:#181818;stroke-width:0.5;\" width=\"115\" x=\"108\" y=\"331\"/><ellipse cx=\"123\" cy=\"347\" fill=\"#ADD1B2\" rx=\"11\" ry=\"11\" style=\"stroke:#181818;stroke-width:1.0;\"/><path d=\"M121.7969,347.875 L123.25,347.875 L123.25,347.9844 C123.25,348.3906 123.2813,348.5469 123.3594,348.7031 C123.5156,348.9531 123.7969,349.1094 124.0938,349.1094 C124.3438,349.1094 124.6094,348.9688 124.7656,348.75 C124.8906,348.5938 124.9219,348.4375 124.9219,347.9844 L124.9219,346.0625 C124.9219,345.9063 124.9219,345.8594 124.9063,345.7031 C124.8438,345.2344 124.5313,344.9219 124.0781,344.9219 C123.8281,344.9219 123.5625,345.0625 123.3906,345.2813 C123.2813,345.4531 123.25,345.6094 123.25,346.0625 L123.25,346.1875 L121.7969,346.1875 L121.7969,343.7813 L125.7813,343.7813 L125.7813,344.6406 C125.7813,345.0469 125.8125,345.2188 125.8906,345.375 C126.0625,345.625 126.3438,345.7813 126.625,345.7813 C126.8906,345.7813 127.1563,345.6406 127.3281,345.4219 C127.4375,345.25 127.4688,345.1094 127.4688,344.6406 L127.4688,342.0938 L119.8438,342.0938 C119.4063,342.0938 119.2813,342.1094 119.125,342.2031 C118.875,342.3594 118.7188,342.6563 118.7188,342.9375 C118.7188,343.2188 118.8594,343.4688 119.0781,343.6406 C119.2344,343.75 119.4219,343.7813 119.8438,343.7813 L120.0938,343.7813 L120.0938,350.2969 L119.8438,350.2969 C119.4375,350.2969 119.2813,350.3125 119.125,350.4219 C118.875,350.5938 118.7188,350.8594 118.7188,351.1563 C118.7188,351.4219 118.8594,351.6719 119.0781,351.8281 C119.2188,351.9531 119.4531,352 119.8438,352 L127.8438,352 L127.8438,349.4219 C127.8438,348.9844 127.8125,348.8438 127.7344,348.6875 C127.5625,348.4375 127.2813,348.2813 127,348.2813 C126.7344,348.2813 126.4688,348.3906 126.2969,348.6406 C126.1875,348.7969 126.1563,348.9375 126.1563,349.4219 L126.1563,350.2969 L121.7969,350.2969 L121.7969,347.875 Z \" fill=\"#000000\"/><text fill=\"#000000\" font-family=\"sans-serif\" font-size=\"14\" lengthAdjust=\"spacing\" textLength=\"83\" x=\"137\" y=\"351.8467\">Hourly Data</text><line style=\"stroke:#181818;stroke-width:0.5;\" x1=\"109\" x2=\"222\" y1=\"363\" y2=\"363\"/><line style=\"stroke:#181818;stroke-width:0.5;\" x1=\"109\" x2=\"222\" y1=\"371\" y2=\"371\"/></g><!--MD5=[c0fb4f6c76f2357bbd6d94440ea44e59]\n",
       "link Monthly to Daily--><g id=\"link_Monthly_Daily\"><path codeLine=\"13\" d=\"M119.432,169.46 C108.025,184.028 94.2856,201.575 82.8413,216.191 \" fill=\"none\" id=\"Monthly-Daily\" style=\"stroke:#181818;stroke-width:1.0;\"/><line style=\"stroke:#181818;stroke-width:1.0;\" x1=\"82.6938\" x2=\"82.485\" y1=\"216.3796\" y2=\"226.3774\"/><line style=\"stroke:#181818;stroke-width:1.0;\" x1=\"82.6938\" x2=\"73.0374\" y1=\"216.3796\" y2=\"218.9786\"/><line style=\"stroke:#181818;stroke-width:1.0;\" x1=\"82.6938\" x2=\"77.7612\" y1=\"216.3796\" y2=\"222.678\"/><line style=\"stroke:#181818;stroke-width:1.0;\" x1=\"87.0761\" x2=\"80.7778\" y1=\"217.2713\" y2=\"212.3387\"/><line style=\"stroke:#181818;stroke-width:1.0;\" x1=\"119.5582\" x2=\"119.7657\" y1=\"169.299\" y2=\"159.3012\"/><line style=\"stroke:#181818;stroke-width:1.0;\" x1=\"119.5582\" x2=\"129.2143\" y1=\"169.299\" y2=\"166.6988\"/><line style=\"stroke:#181818;stroke-width:1.0;\" x1=\"119.5582\" x2=\"124.49\" y1=\"169.299\" y2=\"163\"/><line style=\"stroke:#181818;stroke-width:1.0;\" x1=\"115.1758\" x2=\"121.4748\" y1=\"168.4079\" y2=\"173.3397\"/></g><!--MD5=[eee07a8f6f4defd812993ff16c73ee63]\n",
       "link Monthly to Hourly--><g id=\"link_Monthly_Hourly\"><path codeLine=\"14\" d=\"M145.888,171.521 C150.244,212.057 157.766,282.0418 162.119,322.5453 \" fill=\"none\" id=\"Monthly-Hourly\" style=\"stroke:#181818;stroke-width:1.0;\"/><line style=\"stroke:#181818;stroke-width:1.0;\" x1=\"162.143\" x2=\"168.9636\" y1=\"322.7654\" y2=\"330.0784\"/><line style=\"stroke:#181818;stroke-width:1.0;\" x1=\"162.143\" x2=\"157.0324\" y1=\"322.7654\" y2=\"331.3608\"/><line style=\"stroke:#181818;stroke-width:1.0;\" x1=\"162.143\" x2=\"162.998\" y1=\"322.7654\" y2=\"330.7196\"/><line style=\"stroke:#181818;stroke-width:1.0;\" x1=\"165.9064\" x2=\"157.9522\" y1=\"320.3494\" y2=\"321.2044\"/><line style=\"stroke:#181818;stroke-width:1.0;\" x1=\"145.8607\" x2=\"139.0394\" y1=\"171.2631\" y2=\"163.9508\"/><line style=\"stroke:#181818;stroke-width:1.0;\" x1=\"145.8607\" x2=\"150.9706\" y1=\"171.2631\" y2=\"162.6672\"/><line style=\"stroke:#181818;stroke-width:1.0;\" x1=\"145.8607\" x2=\"145.005\" y1=\"171.2631\" y2=\"163.309\"/><line style=\"stroke:#181818;stroke-width:1.0;\" x1=\"142.0976\" x2=\"150.0517\" y1=\"173.6795\" y2=\"172.8238\"/></g><!--MD5=[8bb57e3e1f25f098dee322a7d8929e3e]\n",
       "link Daily to Hourly--><g id=\"link_Daily_Hourly\"><path codeLine=\"15\" d=\"M88.515,277.015 C103.4141,291.9141 121.518,310.018 136.426,324.9257 \" fill=\"none\" id=\"Daily-Hourly\" style=\"stroke:#181818;stroke-width:1.0;\"/><line style=\"stroke:#181818;stroke-width:1.0;\" x1=\"136.5206\" x2=\"146.4202\" y1=\"325.0221\" y2=\"326.4353\"/><line style=\"stroke:#181818;stroke-width:1.0;\" x1=\"136.5206\" x2=\"137.9358\" y1=\"325.0221\" y2=\"334.9215\"/><line style=\"stroke:#181818;stroke-width:1.0;\" x1=\"136.5206\" x2=\"142.178\" y1=\"325.0221\" y2=\"330.6784\"/><line style=\"stroke:#181818;stroke-width:1.0;\" x1=\"137.9344\" x2=\"132.2781\" y1=\"320.7793\" y2=\"326.4368\"/><line style=\"stroke:#181818;stroke-width:1.0;\" x1=\"88.1574\" x2=\"78.2579\" y1=\"276.6567\" y2=\"275.2427\"/><line style=\"stroke:#181818;stroke-width:1.0;\" x1=\"88.1574\" x2=\"86.7429\" y1=\"276.6567\" y2=\"266.7573\"/><line style=\"stroke:#181818;stroke-width:1.0;\" x1=\"88.1574\" x2=\"82.5004\" y1=\"276.6567\" y2=\"271\"/><line style=\"stroke:#181818;stroke-width:1.0;\" x1=\"86.7433\" x2=\"92.4\" y1=\"280.8994\" y2=\"275.2424\"/></g><!--MD5=[6a2906cadcf40c151a92a34705a45110]\n",
       "link RentalOffice to Monthly--><g id=\"link_RentalOffice_Monthly\"><path codeLine=\"17\" d=\"M142.5,63.259 C142.5,76.893 142.5,92.85 142.5,106.511 \" fill=\"none\" id=\"RentalOffice-Monthly\" style=\"stroke:#181818;stroke-width:1.0;\"/><line style=\"stroke:#181818;stroke-width:1.0;\" x1=\"142.5\" x2=\"148.5\" y1=\"106.678\" y2=\"114.678\"/><line style=\"stroke:#181818;stroke-width:1.0;\" x1=\"142.5\" x2=\"136.5\" y1=\"106.678\" y2=\"114.678\"/><line style=\"stroke:#181818;stroke-width:1.0;\" x1=\"142.5\" x2=\"142.5\" y1=\"106.678\" y2=\"114.678\"/><line style=\"stroke:#181818;stroke-width:1.0;\" x1=\"146.5\" x2=\"138.5\" y1=\"104.678\" y2=\"104.678\"/><line style=\"stroke:#181818;stroke-width:1.0;\" x1=\"138.5\" x2=\"146.5\" y1=\"59\" y2=\"59\"/><line style=\"stroke:#181818;stroke-width:1.0;\" x1=\"138.5\" x2=\"146.5\" y1=\"62\" y2=\"62\"/><line style=\"stroke:#181818;stroke-width:1.0;\" x1=\"142.5\" x2=\"142.5\" y1=\"63\" y2=\"55\"/></g><!--MD5=[c42a19a98ac4d3c89c2410dc0e346b5c]\n",
       "link RentalOffice to Daily--><g id=\"link_RentalOffice_Daily\"><path codeLine=\"18\" d=\"M102.9219,60.64 C86.5475,74.92 69.3446,93.695 60.5,115 C47.2235,146.981 49.3851,187.257 53.3178,214.649 \" fill=\"none\" id=\"RentalOffice-Daily\" style=\"stroke:#181818;stroke-width:1.0;\"/><line style=\"stroke:#181818;stroke-width:1.0;\" x1=\"53.3428\" x2=\"60.5078\" y1=\"214.8092\" y2=\"221.7851\"/><line style=\"stroke:#181818;stroke-width:1.0;\" x1=\"53.3428\" x2=\"48.6522\" y1=\"214.8092\" y2=\"223.6409\"/><line style=\"stroke:#181818;stroke-width:1.0;\" x1=\"53.3428\" x2=\"54.58\" y1=\"214.8092\" y2=\"222.713\"/><line style=\"stroke:#181818;stroke-width:1.0;\" x1=\"56.9854\" x2=\"49.0817\" y1=\"212.2147\" y2=\"213.4519\"/><line style=\"stroke:#181818;stroke-width:1.0;\" x1=\"103.7404\" x2=\"108.8987\" y1=\"54.7167\" y2=\"60.8316\"/><line style=\"stroke:#181818;stroke-width:1.0;\" x1=\"101.4473\" x2=\"106.6056\" y1=\"56.651\" y2=\"62.7659\"/><line style=\"stroke:#181818;stroke-width:1.0;\" x1=\"103.2621\" x2=\"109.377\" y1=\"60.3533\" y2=\"55.195\"/></g><!--MD5=[e5049779bb13261c1764ce357696fb66]\n",
       "link RentalOffice to Hourly--><g id=\"link_RentalOffice_Hourly\"><path codeLine=\"19\" d=\"M182.153,60.609 C198.543,74.882 215.737,93.661 224.5,115 C254.089,187.052 211.646,277.645 184.736,323.8619 \" fill=\"none\" id=\"RentalOffice-Hourly\" style=\"stroke:#181818;stroke-width:1.0;\"/><line style=\"stroke:#181818;stroke-width:1.0;\" x1=\"184.6478\" x2=\"185.7234\" y1=\"324.0096\" y2=\"333.9516\"/><line style=\"stroke:#181818;stroke-width:1.0;\" x1=\"184.6478\" x2=\"175.4046\" y1=\"324.0096\" y2=\"327.826\"/><line style=\"stroke:#181818;stroke-width:1.0;\" x1=\"184.6478\" x2=\"180.564\" y1=\"324.0096\" y2=\"330.8888\"/><line style=\"stroke:#181818;stroke-width:1.0;\" x1=\"189.1083\" x2=\"182.2292\" y1=\"324.3318\" y2=\"320.248\"/><line style=\"stroke:#181818;stroke-width:1.0;\" x1=\"176.1745\" x2=\"181.3271\" y1=\"60.8031\" y2=\"54.6835\"/><line style=\"stroke:#181818;stroke-width:1.0;\" x1=\"178.4694\" x2=\"183.622\" y1=\"62.7354\" y2=\"56.6157\"/><line style=\"stroke:#181818;stroke-width:1.0;\" x1=\"181.8107\" x2=\"175.691\" y1=\"60.3196\" y2=\"55.167\"/></g><!--MD5=[4e25fcf7298468c22943d20a4ad9412d]\n",
       "@startuml\n",
       "entity \"Rental Office\" as RentalOffice {\n",
       "}\n",
       "\n",
       "entity \"Monthly Data\" as Monthly {\n",
       "}\n",
       "\n",
       "entity \"Daily Data\" as Daily {\n",
       "}\n",
       "\n",
       "entity \"Hourly Data\" as Hourly {\n",
       "}\n",
       "\n",
       "Monthly }|- -|{ Daily\n",
       "Monthly }|- -|{ Hourly\n",
       "Daily }|- -|{ Hourly\n",
       "\n",
       "RentalOffice ||- -|{ Monthly\n",
       "RentalOffice ||- -|{ Daily\n",
       "RentalOffice ||- -|{ Hourly\n",
       "@enduml\n",
       "\n",
       "PlantUML version 1.2022.7beta10(Unknown compile time)\n",
       "(GPL source distribution)\n",
       "Java Runtime: Java(TM) SE Runtime Environment\n",
       "JVM: Java HotSpot(TM) 64-Bit Server VM\n",
       "Default Encoding: UTF-8\n",
       "Language: en\n",
       "Country: US\n",
       "--></g></svg>"
      ],
      "text/plain": [
       "<IPython.core.display.SVG object>"
      ]
     },
     "execution_count": 25,
     "metadata": {},
     "output_type": "execute_result"
    }
   ],
   "source": [
    "%%plantuml\n",
    "\n",
    "@startuml\n",
    "\n",
    "entity \"Rental Office\" as RentalOffice {\n",
    "}\n",
    "\n",
    "entity \"Monthly Data\" as Monthly {\n",
    "}\n",
    "\n",
    "entity \"Daily Data\" as Daily {\n",
    "}\n",
    "\n",
    "entity \"Hourly Data\" as Hourly {\n",
    "}\n",
    "\n",
    "Monthly }|--|{ Daily\n",
    "Monthly }|--|{ Hourly\n",
    "Daily }|--|{ Hourly\n",
    "\n",
    "RentalOffice ||--|{ Monthly\n",
    "RentalOffice ||--|{ Daily\n",
    "RentalOffice ||--|{ Hourly\n",
    "\n",
    "@enduml"
   ]
  },
  {
   "cell_type": "markdown",
   "metadata": {},
   "source": [
    "## JSON schema description for NoSQL\n",
    "\n",
    "SQL형식의 데이터를 NoSQL 형식으로 표현하기 위해서는 각 인덱스와 properties를 정의해줘야 한다. 따라서 이렇게 하도록 하겠다.\n",
    "\n",
    "|Key|Document|\n",
    "|---|---|\n",
    "|Rental Office|내용 1|\n",
    "|Monthly Data|내용 2|\n",
    "|Daily Data|내용 3|\n",
    "|Hourly Data|내용 4|"
   ]
  },
  {
   "cell_type": "markdown",
   "metadata": {},
   "source": [
    "<!-- your answer here -->\n",
    "Answer: <br>\n"
   ]
  },
  {
   "cell_type": "code",
   "execution_count": 19,
   "metadata": {},
   "outputs": [
    {
     "data": {
      "text/html": [
       "<div>\n",
       "<style scoped>\n",
       "    .dataframe tbody tr th:only-of-type {\n",
       "        vertical-align: middle;\n",
       "    }\n",
       "\n",
       "    .dataframe tbody tr th {\n",
       "        vertical-align: top;\n",
       "    }\n",
       "\n",
       "    .dataframe thead th {\n",
       "        text-align: right;\n",
       "    }\n",
       "</style>\n",
       "<table border=\"1\" class=\"dataframe\">\n",
       "  <thead>\n",
       "    <tr style=\"text-align: right;\">\n",
       "      <th></th>\n",
       "      <th>ID</th>\n",
       "      <th>Name</th>\n",
       "      <th>Grade</th>\n",
       "    </tr>\n",
       "  </thead>\n",
       "  <tbody>\n",
       "    <tr>\n",
       "      <th>0</th>\n",
       "      <td>1</td>\n",
       "      <td>Red</td>\n",
       "      <td>A</td>\n",
       "    </tr>\n",
       "    <tr>\n",
       "      <th>1</th>\n",
       "      <td>2</td>\n",
       "      <td>Green</td>\n",
       "      <td>B</td>\n",
       "    </tr>\n",
       "    <tr>\n",
       "      <th>2</th>\n",
       "      <td>3</td>\n",
       "      <td>White</td>\n",
       "      <td>A</td>\n",
       "    </tr>\n",
       "  </tbody>\n",
       "</table>\n",
       "</div>"
      ],
      "text/plain": [
       "   ID   Name Grade\n",
       "0   1    Red     A\n",
       "1   2  Green     B\n",
       "2   3  White     A"
      ]
     },
     "execution_count": 19,
     "metadata": {},
     "output_type": "execute_result"
    }
   ],
   "source": [
    "# Your answer here\n",
    "\n",
    "import io\n",
    "import pandas as pd\n",
    "\n",
    "grades_io = io.StringIO(\n",
    "    \"\"\"\n",
    "    1| Red| A\n",
    "    2| Green| B\n",
    "    3| White| A\n",
    "    \"\"\"\n",
    ")\n",
    "\n",
    "grades_csv = pd.read_csv(\n",
    "    grades_io,\n",
    "    sep=\"|\",\n",
    "    skipinitialspace=True\n",
    ")\n",
    "\n",
    "grades_csv.to_csv('grades.csv')\n",
    "grades_csv"
   ]
  },
  {
   "cell_type": "code",
   "execution_count": 21,
   "metadata": {},
   "outputs": [
    {
     "data": {
      "text/html": [
       "<div>\n",
       "<style scoped>\n",
       "    .dataframe tbody tr th:only-of-type {\n",
       "        vertical-align: middle;\n",
       "    }\n",
       "\n",
       "    .dataframe tbody tr th {\n",
       "        vertical-align: top;\n",
       "    }\n",
       "\n",
       "    .dataframe thead th {\n",
       "        text-align: right;\n",
       "    }\n",
       "</style>\n",
       "<table border=\"1\" class=\"dataframe\">\n",
       "  <thead>\n",
       "    <tr style=\"text-align: right;\">\n",
       "      <th></th>\n",
       "      <th>ID</th>\n",
       "      <th>Name</th>\n",
       "      <th>Grade</th>\n",
       "    </tr>\n",
       "  </thead>\n",
       "  <tbody>\n",
       "    <tr>\n",
       "      <th>0</th>\n",
       "      <td>1</td>\n",
       "      <td>Red</td>\n",
       "      <td>A</td>\n",
       "    </tr>\n",
       "    <tr>\n",
       "      <th>1</th>\n",
       "      <td>2</td>\n",
       "      <td>Green</td>\n",
       "      <td>B</td>\n",
       "    </tr>\n",
       "    <tr>\n",
       "      <th>2</th>\n",
       "      <td>3</td>\n",
       "      <td>White</td>\n",
       "      <td>A</td>\n",
       "    </tr>\n",
       "  </tbody>\n",
       "</table>\n",
       "</div>"
      ],
      "text/plain": [
       "   ID   Name Grade\n",
       "0   1    Red     A\n",
       "1   2  Green     B\n",
       "2   3  White     A"
      ]
     },
     "execution_count": 21,
     "metadata": {},
     "output_type": "execute_result"
    }
   ],
   "source": [
    "grades_result = pd.read_csv(\n",
    "    'grades.csv',\n",
    "    columns=['ID', 'Name', 'Grade']\n",
    ")\n",
    "grades_result"
   ]
  },
  {
   "cell_type": "markdown",
   "metadata": {},
   "source": [
    "\n",
    "## Querying Relational Data in Python\n",
    "\n",
    "Problem 2. Create a cars table and insert the following rows into it.\n",
    "\n",
    "| ID  | Name         | Price  |\n",
    "| --- | ------------ | ------ |\n",
    "| 1   | 'Audi'       | 52642  |\n",
    "| 2   | 'Mercedes'   | 57127  |\n",
    "| 3   | 'Skoda'      | 9000   |\n",
    "| 4   | 'Volvo'      | 29000  |\n",
    "| 5   | 'Bentley'    | 350000 |\n",
    "| 6   | 'Hummer'     | 41400  |\n",
    "| 7   | 'Volkswagen' | 21600  |"
   ]
  },
  {
   "cell_type": "markdown",
   "metadata": {},
   "source": [
    "<!-- your answer here -->\n",
    "Answer: <br>\n"
   ]
  },
  {
   "cell_type": "code",
   "execution_count": 9,
   "metadata": {},
   "outputs": [
    {
     "data": {
      "text/html": [
       "<div>\n",
       "<style scoped>\n",
       "    .dataframe tbody tr th:only-of-type {\n",
       "        vertical-align: middle;\n",
       "    }\n",
       "\n",
       "    .dataframe tbody tr th {\n",
       "        vertical-align: top;\n",
       "    }\n",
       "\n",
       "    .dataframe thead th {\n",
       "        text-align: right;\n",
       "    }\n",
       "</style>\n",
       "<table border=\"1\" class=\"dataframe\">\n",
       "  <thead>\n",
       "    <tr style=\"text-align: right;\">\n",
       "      <th></th>\n",
       "      <th>ID</th>\n",
       "      <th>Name</th>\n",
       "      <th>Price</th>\n",
       "    </tr>\n",
       "  </thead>\n",
       "  <tbody>\n",
       "  </tbody>\n",
       "</table>\n",
       "</div>"
      ],
      "text/plain": [
       "Empty DataFrame\n",
       "Columns: [ID, Name, Price]\n",
       "Index: []"
      ]
     },
     "execution_count": 9,
     "metadata": {},
     "output_type": "execute_result"
    }
   ],
   "source": [
    "# Your answer here\n",
    "\n",
    "import io\n",
    "import pandas as pd\n",
    "\n",
    "cars_table = pd.DataFrame(\n",
    "    columns=['ID', 'Name', 'Price']\n",
    ")\n",
    "\n",
    "cars_table"
   ]
  },
  {
   "cell_type": "code",
   "execution_count": 20,
   "metadata": {},
   "outputs": [
    {
     "data": {
      "text/html": [
       "<div>\n",
       "<style scoped>\n",
       "    .dataframe tbody tr th:only-of-type {\n",
       "        vertical-align: middle;\n",
       "    }\n",
       "\n",
       "    .dataframe tbody tr th {\n",
       "        vertical-align: top;\n",
       "    }\n",
       "\n",
       "    .dataframe thead th {\n",
       "        text-align: right;\n",
       "    }\n",
       "</style>\n",
       "<table border=\"1\" class=\"dataframe\">\n",
       "  <thead>\n",
       "    <tr style=\"text-align: right;\">\n",
       "      <th></th>\n",
       "      <th>ID</th>\n",
       "      <th>Name</th>\n",
       "      <th>Price</th>\n",
       "    </tr>\n",
       "  </thead>\n",
       "  <tbody>\n",
       "    <tr>\n",
       "      <th>0</th>\n",
       "      <td>1</td>\n",
       "      <td>Audi</td>\n",
       "      <td>52642</td>\n",
       "    </tr>\n",
       "    <tr>\n",
       "      <th>1</th>\n",
       "      <td>2</td>\n",
       "      <td>Mercedes</td>\n",
       "      <td>57127</td>\n",
       "    </tr>\n",
       "    <tr>\n",
       "      <th>2</th>\n",
       "      <td>3</td>\n",
       "      <td>Skoda</td>\n",
       "      <td>9000</td>\n",
       "    </tr>\n",
       "    <tr>\n",
       "      <th>3</th>\n",
       "      <td>4</td>\n",
       "      <td>Volvo</td>\n",
       "      <td>29000</td>\n",
       "    </tr>\n",
       "    <tr>\n",
       "      <th>4</th>\n",
       "      <td>5</td>\n",
       "      <td>Bentley</td>\n",
       "      <td>350000</td>\n",
       "    </tr>\n",
       "    <tr>\n",
       "      <th>5</th>\n",
       "      <td>6</td>\n",
       "      <td>Hummer</td>\n",
       "      <td>41400</td>\n",
       "    </tr>\n",
       "    <tr>\n",
       "      <th>6</th>\n",
       "      <td>7</td>\n",
       "      <td>Volkswagen</td>\n",
       "      <td>21600</td>\n",
       "    </tr>\n",
       "  </tbody>\n",
       "</table>\n",
       "</div>"
      ],
      "text/plain": [
       "  ID        Name   Price\n",
       "0  1        Audi   52642\n",
       "1  2    Mercedes   57127\n",
       "2  3       Skoda    9000\n",
       "3  4       Volvo   29000\n",
       "4  5     Bentley  350000\n",
       "5  6      Hummer   41400\n",
       "6  7  Volkswagen   21600"
      ]
     },
     "execution_count": 20,
     "metadata": {},
     "output_type": "execute_result"
    }
   ],
   "source": [
    "row = {'ID':[1,2,3,4,5,6,7], \n",
    "       'Name':['Audi', 'Mercedes', 'Skoda', 'Volvo', 'Bentley', 'Hummer', 'Volkswagen'],\n",
    "       'Price':[52642, 57127, 9000, 29000, 350000, 41400, 21600]}\n",
    "row_df = pd.DataFrame(row)\n",
    "\n",
    "cars_table_updated = pd.concat([cars_table, row_df], ignore_index = True)\n",
    "cars_table_updated.reset_index()\n",
    "cars_table_updated"
   ]
  },
  {
   "cell_type": "markdown",
   "metadata": {},
   "source": [
    "## Reading and Writing JSON Files in Python\n",
    "\n",
    "Problem 3. Create a JSON file named grades.json and write into it the following dictionary:\n",
    "\n",
    "```json\n",
    "grades_dict = {'gradebook':\n",
    "  [{'student_id': 1, 'name': 'Red', 'grade': 'A'},\n",
    "    {'student_id': 2, 'name': 'Green', 'grade': 'B'},\n",
    "    {'student_id': 3, 'name': 'White', 'grade': 'A'}]}\n",
    "```\n",
    "\n",
    "Then, read the file and display its pretty-printed JSON.\n"
   ]
  },
  {
   "cell_type": "markdown",
   "metadata": {},
   "source": [
    "<!-- your answer here -->\n",
    "Answer: <br>\n"
   ]
  },
  {
   "cell_type": "code",
   "execution_count": 24,
   "metadata": {
    "scrolled": true
   },
   "outputs": [],
   "source": [
    "# Your answer here\n",
    "\n",
    "import io\n",
    "import pandas as pd\n",
    "import json\n",
    "\n",
    "grades_dict = {'gradebook': \n",
    "    [\n",
    "    {'student_id': 1, 'name': 'Red', 'grade': 'A'},\n",
    "    {'student_id': 2, 'name': 'Green', 'grade': 'B'},\n",
    "    {'student_id': 3, 'name': 'White', 'grade': 'A'}\n",
    "    ]\n",
    "    }\n",
    "\n",
    "grades_df = pd.DataFrame(grades_dict)\n",
    "grades_df.to_json('grades.json', orient=\"table\")"
   ]
  },
  {
   "cell_type": "code",
   "execution_count": 52,
   "metadata": {},
   "outputs": [
    {
     "data": {
      "text/html": [
       "<div>\n",
       "<style scoped>\n",
       "    .dataframe tbody tr th:only-of-type {\n",
       "        vertical-align: middle;\n",
       "    }\n",
       "\n",
       "    .dataframe tbody tr th {\n",
       "        vertical-align: top;\n",
       "    }\n",
       "\n",
       "    .dataframe thead th {\n",
       "        text-align: right;\n",
       "    }\n",
       "</style>\n",
       "<table border=\"1\" class=\"dataframe\">\n",
       "  <thead>\n",
       "    <tr style=\"text-align: right;\">\n",
       "      <th></th>\n",
       "      <th>gradebook</th>\n",
       "    </tr>\n",
       "  </thead>\n",
       "  <tbody>\n",
       "    <tr>\n",
       "      <th>0</th>\n",
       "      <td>{'student_id': 1, 'name': 'Red', 'grade': 'A'}</td>\n",
       "    </tr>\n",
       "    <tr>\n",
       "      <th>1</th>\n",
       "      <td>{'student_id': 2, 'name': 'Green', 'grade': 'B'}</td>\n",
       "    </tr>\n",
       "    <tr>\n",
       "      <th>2</th>\n",
       "      <td>{'student_id': 3, 'name': 'White', 'grade': 'A'}</td>\n",
       "    </tr>\n",
       "  </tbody>\n",
       "</table>\n",
       "</div>"
      ],
      "text/plain": [
       "                                          gradebook\n",
       "0    {'student_id': 1, 'name': 'Red', 'grade': 'A'}\n",
       "1  {'student_id': 2, 'name': 'Green', 'grade': 'B'}\n",
       "2  {'student_id': 3, 'name': 'White', 'grade': 'A'}"
      ]
     },
     "execution_count": 52,
     "metadata": {},
     "output_type": "execute_result"
    }
   ],
   "source": [
    "grades_df"
   ]
  },
  {
   "cell_type": "code",
   "execution_count": 25,
   "metadata": {},
   "outputs": [
    {
     "data": {
      "text/html": [
       "<div>\n",
       "<style scoped>\n",
       "    .dataframe tbody tr th:only-of-type {\n",
       "        vertical-align: middle;\n",
       "    }\n",
       "\n",
       "    .dataframe tbody tr th {\n",
       "        vertical-align: top;\n",
       "    }\n",
       "\n",
       "    .dataframe thead th {\n",
       "        text-align: right;\n",
       "    }\n",
       "</style>\n",
       "<table border=\"1\" class=\"dataframe\">\n",
       "  <thead>\n",
       "    <tr style=\"text-align: right;\">\n",
       "      <th></th>\n",
       "      <th>gradebook</th>\n",
       "    </tr>\n",
       "  </thead>\n",
       "  <tbody>\n",
       "    <tr>\n",
       "      <th>0</th>\n",
       "      <td>{'student_id': 1, 'name': 'Red', 'grade': 'A'}</td>\n",
       "    </tr>\n",
       "    <tr>\n",
       "      <th>1</th>\n",
       "      <td>{'student_id': 2, 'name': 'Green', 'grade': 'B'}</td>\n",
       "    </tr>\n",
       "    <tr>\n",
       "      <th>2</th>\n",
       "      <td>{'student_id': 3, 'name': 'White', 'grade': 'A'}</td>\n",
       "    </tr>\n",
       "  </tbody>\n",
       "</table>\n",
       "</div>"
      ],
      "text/plain": [
       "                                          gradebook\n",
       "0    {'student_id': 1, 'name': 'Red', 'grade': 'A'}\n",
       "1  {'student_id': 2, 'name': 'Green', 'grade': 'B'}\n",
       "2  {'student_id': 3, 'name': 'White', 'grade': 'A'}"
      ]
     },
     "execution_count": 25,
     "metadata": {},
     "output_type": "execute_result"
    }
   ],
   "source": [
    "# Reading a JSON file\n",
    "grades_JSON = pd.read_json('grades.json', orient = 'table')\n",
    "grades_JSON"
   ]
  },
  {
   "cell_type": "code",
   "execution_count": 26,
   "metadata": {},
   "outputs": [
    {
     "name": "stdout",
     "output_type": "stream",
     "text": [
      "                                          gradebook\n",
      "0    {'student_id': 1, 'name': 'Red', 'grade': 'A'}\n",
      "1  {'student_id': 2, 'name': 'Green', 'grade': 'B'}\n",
      "2  {'student_id': 3, 'name': 'White', 'grade': 'A'}\n"
     ]
    }
   ],
   "source": [
    "from pprint import pprint\n",
    "pprint(grades_JSON)"
   ]
  },
  {
   "cell_type": "markdown",
   "metadata": {},
   "source": [
    "## Accessing Elasticsearch data in Python\n",
    "\n",
    "Problem 4. Index a following document and search the document whose title is \"Python.\"\n",
    "\n",
    "```json\n",
    "{\n",
    "  'author': 'John Doe',\n",
    "  'blog': 'Learning Elasticsearch',\n",
    "  'title': 'Using Python with Elasticsearch',\n",
    "  'tags': ['python', 'elasticsearch', 'tips'],\n",
    "}\n",
    "```"
   ]
  },
  {
   "cell_type": "markdown",
   "metadata": {},
   "source": [
    "<!-- your answer here -->\n",
    "Answer: <br>\n"
   ]
  },
  {
   "cell_type": "code",
   "execution_count": 81,
   "metadata": {},
   "outputs": [
    {
     "name": "stdout",
     "output_type": "stream",
     "text": [
      "Collecting elasticsearch\n",
      "  Downloading elasticsearch-8.3.3-py3-none-any.whl (382 kB)\n",
      "Collecting elastic-transport<9,>=8\n",
      "  Downloading elastic_transport-8.1.2-py3-none-any.whl (59 kB)\n",
      "Requirement already satisfied: urllib3<2,>=1.26.2 in c:\\users\\kmch1\\anaconda3\\lib\\site-packages (from elastic-transport<9,>=8->elasticsearch) (1.26.7)\n",
      "Requirement already satisfied: certifi in c:\\users\\kmch1\\anaconda3\\lib\\site-packages (from elastic-transport<9,>=8->elasticsearch) (2021.10.8)\n",
      "Installing collected packages: elastic-transport, elasticsearch\n",
      "Successfully installed elastic-transport-8.1.2 elasticsearch-8.3.3\n"
     ]
    }
   ],
   "source": [
    "# Your answer here\n",
    "\n",
    "! pip install elasticsearch"
   ]
  },
  {
   "cell_type": "code",
   "execution_count": 2,
   "metadata": {},
   "outputs": [
    {
     "name": "stdout",
     "output_type": "stream",
     "text": [
      "updated\n",
      "{'author': 'John Doe', 'blog': 'Learning Elasticsearch', 'title': 'Using Python with Elasticsearch', 'tags': ['python', 'elasticsearch', 'tips']}\n"
     ]
    },
    {
     "name": "stderr",
     "output_type": "stream",
     "text": [
      "C:\\Users\\kmch1\\AppData\\Local\\Temp/ipykernel_51376/3382341001.py:13: ElasticsearchWarning: Elasticsearch built-in security features are not enabled. Without authentication, your cluster could be accessible to anyone. See https://www.elastic.co/guide/en/elasticsearch/reference/7.15/security-minimal-setup.html to enable security.\n",
      "  resp = es.index(index=\"test-index\", id=1, document=doc)\n",
      "C:\\Users\\kmch1\\AppData\\Local\\Temp/ipykernel_51376/3382341001.py:19: ElasticsearchWarning: Elasticsearch built-in security features are not enabled. Without authentication, your cluster could be accessible to anyone. See https://www.elastic.co/guide/en/elasticsearch/reference/7.15/security-minimal-setup.html to enable security.\n",
      "  resp = es.get(index=\"test-index\", id=1)\n"
     ]
    }
   ],
   "source": [
    "from datetime import datetime\n",
    "from elasticsearch import Elasticsearch\n",
    "\n",
    "es = Elasticsearch(\"http://localhost:9200\")\n",
    "\n",
    "doc = {\n",
    "    'author': 'John Doe',\n",
    "    'blog': 'Learning Elasticsearch',\n",
    "    'title': 'Using Python with Elasticsearch',\n",
    "    'tags': ['python', 'elasticsearch', 'tips'],\n",
    "}\n",
    "\n",
    "resp = es.index(index=\"test-index\", id=1, document=doc)\n",
    "print(resp[\"result\"])\n",
    "\n",
    "------"
   ]
  },
  {
   "cell_type": "code",
   "execution_count": 14,
   "metadata": {},
   "outputs": [
    {
     "name": "stderr",
     "output_type": "stream",
     "text": [
      "C:\\Users\\kmch1\\AppData\\Local\\Temp/ipykernel_51376/2982782452.py:1: ElasticsearchWarning: Elasticsearch built-in security features are not enabled. Without authentication, your cluster could be accessible to anyone. See https://www.elastic.co/guide/en/elasticsearch/reference/7.15/security-minimal-setup.html to enable security.\n",
      "  result = es.search(index=\"test-index\", query={\n"
     ]
    }
   ],
   "source": [
    "result = es.search(index=\"test-index\", query={\n",
    "    'match': {\n",
    "        'title': 'Python',\n",
    "    }\n",
    "})"
   ]
  },
  {
   "cell_type": "code",
   "execution_count": 16,
   "metadata": {},
   "outputs": [
    {
     "name": "stdout",
     "output_type": "stream",
     "text": [
      "{'took': 0, 'timed_out': False, '_shards': {'total': 1, 'successful': 1, 'skipped': 0, 'failed': 0}, 'hits': {'total': {'value': 1, 'relation': 'eq'}, 'max_score': 0.2876821, 'hits': [{'_index': 'test-index', '_type': '_doc', '_id': '1', '_score': 0.2876821, '_source': {'author': 'John Doe', 'blog': 'Learning Elasticsearch', 'title': 'Using Python with Elasticsearch', 'tags': ['python', 'elasticsearch', 'tips']}}]}}\n"
     ]
    }
   ],
   "source": [
    "print(result)"
   ]
  },
  {
   "cell_type": "code",
   "execution_count": 17,
   "metadata": {},
   "outputs": [
    {
     "name": "stdout",
     "output_type": "stream",
     "text": [
      "Got 1 Hits:\n"
     ]
    }
   ],
   "source": [
    "print(\"Got %d Hits:\" % result['hits']['total']['value'])"
   ]
  }
 ],
 "metadata": {
  "kernelspec": {
   "display_name": "Python 3 (ipykernel)",
   "language": "python",
   "name": "python3"
  },
  "language_info": {
   "codemirror_mode": {
    "name": "ipython",
    "version": 3
   },
   "file_extension": ".py",
   "mimetype": "text/x-python",
   "name": "python",
   "nbconvert_exporter": "python",
   "pygments_lexer": "ipython3",
   "version": "3.9.7"
  }
 },
 "nbformat": 4,
 "nbformat_minor": 2
}
